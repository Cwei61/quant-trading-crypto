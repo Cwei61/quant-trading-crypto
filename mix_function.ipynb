{
 "cells": [
  {
   "cell_type": "code",
   "execution_count": null,
   "metadata": {},
   "outputs": [],
   "source": [
    "import pandas as pd\n",
    "import numpy as np"
   ]
  },
  {
   "cell_type": "code",
   "execution_count": null,
   "metadata": {},
   "outputs": [],
   "source": [
    "#read data\n",
    "history_data = pd.read_csv('h1.csv')"
   ]
  },
  {
   "cell_type": "code",
   "execution_count": null,
   "metadata": {},
   "outputs": [],
   "source": [
    "#drop Nan index and reset dataFrame's index\n",
    "history_data = history_data.dropna()\n",
    "history_data = history_data.reset_index(drop=True)"
   ]
  },
  {
   "cell_type": "code",
   "execution_count": null,
   "metadata": {},
   "outputs": [],
   "source": [
    "close_array = history_data['close']\n",
    "high_array = history_data['high']\n",
    "low_array = history_data['low']"
   ]
  },
  {
   "cell_type": "code",
   "execution_count": null,
   "metadata": {},
   "outputs": [],
   "source": [
    "\n",
    "import talib"
   ]
  },
  {
   "cell_type": "markdown",
   "metadata": {},
   "source": [
    "ATR"
   ]
  },
  {
   "cell_type": "code",
   "execution_count": null,
   "metadata": {},
   "outputs": [],
   "source": [
    "Close = history_data.close\n",
    "Open = history_data.open\n",
    "High = history_data.high\n",
    "Low = history_data.low"
   ]
  },
  {
   "cell_type": "code",
   "execution_count": null,
   "metadata": {},
   "outputs": [],
   "source": [
    "# calculate ATR\n",
    "atr5 = talib.ATR(High, Low, Close, timeperiod=4)\n",
    "atr10 = talib.ATR(High, Low, Close, timeperiod=9)"
   ]
  },
  {
   "cell_type": "code",
   "execution_count": null,
   "metadata": {},
   "outputs": [],
   "source": [
    "#drop Nan index and reset dataFrame's index\n",
    "atr5 = atr5.dropna()\n",
    "atr5 = atr5.reset_index(drop=True)\n",
    "\n",
    "atr10 = atr10.dropna()\n",
    "atr10 = atr10.reset_index(drop=True)"
   ]
  },
  {
   "cell_type": "markdown",
   "metadata": {},
   "source": [
    "TRIMA"
   ]
  },
  {
   "cell_type": "code",
   "execution_count": null,
   "metadata": {},
   "outputs": [],
   "source": [
    "# 計算均線\n",
    "trima5 = talib.TRIMA(Close, timeperiod=3)\n",
    "trima10 = talib.TRIMA(Close, timeperiod=9)"
   ]
  },
  {
   "cell_type": "code",
   "execution_count": null,
   "metadata": {},
   "outputs": [],
   "source": [
    "#drop Nan index and reset dataFrame's index\n",
    "trima5 = trima5.dropna()\n",
    "trima5 = trima5.reset_index(drop=True)\n",
    "\n",
    "trima10 = trima10.dropna()\n",
    "trima10 = trima10.reset_index(drop=True)"
   ]
  },
  {
   "cell_type": "code",
   "execution_count": null,
   "metadata": {},
   "outputs": [],
   "source": [
    "# trima5與trima10差距\n",
    "trima_dif = trima5 - trima10"
   ]
  },
  {
   "cell_type": "code",
   "execution_count": null,
   "metadata": {},
   "outputs": [],
   "source": [
    "# 參數\n",
    "stock = 0\n",
    "trima_sig = [] "
   ]
  },
  {
   "cell_type": "code",
   "execution_count": null,
   "metadata": {},
   "outputs": [],
   "source": [
    "\n",
    "# 訊號\n",
    "for i in range(1,len(trima_dif)):\n",
    "    # 5MA往上穿越10MA\n",
    "    if trima_dif[i-1] < 0 and trima_dif[i] > 0 and stock == 0 and trima5[i] > trima5[i-1] and trima5[i] > (trima10[i] * 1.005):\n",
    "        stock += 1\n",
    "        trima_sig.append(1)\n",
    "    \n",
    "    # 5MA往下穿越10MA\n",
    "    elif trima_dif[i-1] > 0 and trima_dif[i] < 0 and stock == 1:\n",
    "        stock -= 1\n",
    "        trima_sig.append(-1)\n",
    "    else:\n",
    "        trima_sig.append(0)\n",
    "\n",
    "count = 0\n",
    "for i in range(0,len(trima_sig)):\n",
    "    if trima_sig[i] == 1:\n",
    "        count = count + 1\n"
   ]
  },
  {
   "cell_type": "markdown",
   "metadata": {},
   "source": [
    "DEMA"
   ]
  },
  {
   "cell_type": "code",
   "execution_count": null,
   "metadata": {},
   "outputs": [],
   "source": [
    "# 計算均線\n",
    "dema5 = talib.DEMA(Close, timeperiod=3)\n",
    "dema10 = talib.DEMA(Close, timeperiod=9)"
   ]
  },
  {
   "cell_type": "code",
   "execution_count": null,
   "metadata": {},
   "outputs": [],
   "source": [
    "#drop Nan index and reset dataFrame's index\n",
    "dema5 = dema5.dropna()\n",
    "dema5 = dema5.reset_index(drop=True)\n",
    "\n",
    "dema10 = dema10.dropna()\n",
    "dema10 = dema10.reset_index(drop=True)\n",
    "\n",
    "# 5ma與10ma差距\n",
    "dema_dif = dema5 - dema10\n",
    "\n",
    "# 參數\n",
    "stock = 0\n",
    "dema_sig = [] "
   ]
  },
  {
   "cell_type": "code",
   "execution_count": null,
   "metadata": {},
   "outputs": [],
   "source": [
    "# 訊號\n",
    "for i in range(1,len(dema_dif)):\n",
    "    # 5MA往上穿越10MA\n",
    "    if dema_dif[i-1] < 0 and dema_dif[i] > 0 and stock == 0 and dema5[i] > dema5[i-1] and dema5[i] > (dema10[i] * 1.003):\n",
    "        stock += 1\n",
    "        dema_sig.append(1)\n",
    "    \n",
    "    # 5MA往下穿越10MA\n",
    "    elif dema_dif[i-1] > 0 and dema_dif[i] < 0 and stock == 1:\n",
    "        stock -= 1\n",
    "        dema_sig.append(-1)\n",
    "    else:\n",
    "        dema_sig.append(0)\n",
    "\n",
    "count = 0\n",
    "for i in range(0,len(sig)):\n",
    "    if dema_sig[i] == 1:\n",
    "        count = count + 1"
   ]
  },
  {
   "cell_type": "markdown",
   "metadata": {},
   "source": [
    "SMA"
   ]
  },
  {
   "cell_type": "code",
   "execution_count": null,
   "metadata": {},
   "outputs": [],
   "source": [
    "# 計算均線\n",
    "sma5 = talib.SMA(Close, timeperiod=3)\n",
    "sma10 = talib.SMA(Close, timeperiod=9)"
   ]
  },
  {
   "cell_type": "code",
   "execution_count": null,
   "metadata": {},
   "outputs": [],
   "source": [
    "#drop Nan index and reset dataFrame's index\n",
    "sma5 = sma5.dropna()\n",
    "sma5 = sma5.reset_index(drop=True)\n",
    "\n",
    "sma10 = sma10.dropna()\n",
    "sma10 = sma10.reset_index(drop=True)\n",
    "\n",
    "# 5ma與10ma差距\n",
    "sma_dif = sma5 - sma10\n",
    "\n",
    "# 參數\n",
    "stock = 0\n",
    "sma_sig = [] \n"
   ]
  },
  {
   "cell_type": "code",
   "execution_count": null,
   "metadata": {},
   "outputs": [],
   "source": [
    "\n",
    "# 訊號\n",
    "for i in range(1,len(sma_dif)):\n",
    "    # 5MA往上穿越10MA\n",
    "    if sma_dif[i-1] < 0 and sma_dif[i] > 0 and stock == 0 and sma5[i] > sma5[i-1] and sma5[i] > (sma10[i] * 1.002):\n",
    "        stock += 1\n",
    "        sma_sig.append(1)\n",
    "    \n",
    "    # 5MA往下穿越10MA\n",
    "    elif sma_dif[i-1] > 0 and sma_dif[i] < 0 and stock == 1:\n",
    "        stock -= 1\n",
    "        sma_sig.append(-1)\n",
    "    else:\n",
    "        sma_sig.append(0)\n",
    "\n"
   ]
  }
 ],
 "metadata": {
  "kernelspec": {
   "display_name": "Python 3.8.15 ('tra')",
   "language": "python",
   "name": "python3"
  },
  "language_info": {
   "name": "python",
   "version": "3.8.15"
  },
  "orig_nbformat": 4,
  "vscode": {
   "interpreter": {
    "hash": "940055f690439f4cd1915a0b156283aebb5ac9bc125d2fee6333e9932ccd6f6e"
   }
  }
 },
 "nbformat": 4,
 "nbformat_minor": 2
}
